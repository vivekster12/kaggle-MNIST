{
 "cells": [
  {
   "cell_type": "code",
   "execution_count": 4,
   "metadata": {},
   "outputs": [],
   "source": [
    "%matplotlib inline\n",
    "import matplotlib.pyplot as plt\n",
    "import numpy as np\n",
    "from scipy import misc as scmisc\n",
    "import pandas as pd\n",
    "import io\n",
    "import cv2\n",
    "import math"
   ]
  },
  {
   "cell_type": "code",
   "execution_count": 5,
   "metadata": {},
   "outputs": [],
   "source": [
    "x_test = np.loadtxt('datasets/test_x.csv', delimiter=',')\n",
    "x_originals = np.loadtxt('datasets/test_x.csv', delimiter=',')"
   ]
  },
  {
   "cell_type": "code",
   "execution_count": 23,
   "metadata": {},
   "outputs": [
    {
     "data": {
      "image/png": "[encoded data removed]",
      "text/plain": [
       "<Figure size 432x288 with 1 Axes>"
      ]
     },
     "metadata": {},
     "output_type": "display_data"
    }
   ],
   "source": [
    "filteredX_test = x_test\n",
    "filteredX_test[filteredX_test<240] = 0\n",
    "xImgFiltTest = filteredX_test.reshape(-1, 64, 64)\n",
    "\n",
    "image = xImgFiltTest[1000].astype('uint8')\n",
    "imgPlot = plt.imshow(image, cmap='gray')\n",
    "\n",
    "connectivity = 4  \n",
    "ret, thresh = cv2.threshold(image,127,255,cv2.THRESH_BINARY)\n",
    "num_labels, labels, stats, centroids = cv2.connectedComponentsWithStats(thresh, connectivity, cv2.CV_32S)\n",
    "\n",
    "areas = list()\n",
    "for i in range (0,stats.shape[0]):\n",
    "    areas.append(stats[i,2]*stats[i,3])\n",
    "\n",
    "max_label=1\n",
    "max_size = areas[1]\n",
    "for j in range(2, num_labels):\n",
    "    if areas[j] > max_size:\n",
    "        max_label = j\n",
    "        max_size = areas[j]\n",
    "preprocessed_img = np.zeros(labels.shape)\n",
    "preprocessed_img[labels == max_label] = 255\n",
    "# imgPlot = plt.imshow(preprocessed_img, cmap='gray')\n"
   ]
  },
  {
   "cell_type": "code",
   "execution_count": 14,
   "metadata": {},
   "outputs": [
    {
     "name": "stdout",
     "output_type": "stream",
     "text": [
      "[4096, 308, 486]\n",
      "[3633  170  293]\n"
     ]
    },
    {
     "data": {
      "text/plain": [
       "array([3633,  170,  293], dtype=int32)"
      ]
     },
     "execution_count": 14,
     "metadata": {},
     "output_type": "execute_result"
    }
   ],
   "source": [
    "stats.shape[0]\n",
    "areas = list()\n",
    "for i in range (0,stats.shape[0]):\n",
    "    areas.append(stats[i,2]*stats[i,3])\n",
    "print(areas)\n",
    "print(sizes)\n",
    "sizes"
   ]
  },
  {
   "cell_type": "code",
   "execution_count": 17,
   "metadata": {},
   "outputs": [
    {
     "name": "stdout",
     "output_type": "stream",
     "text": [
      "[4096, 308, 486]\n",
      "[[   0    0   64   64 3633]\n",
      " [  37    5   22   14  170]\n",
      " [  38   34   18   27  293]]\n"
     ]
    }
   ],
   "source": [
    "print(areas)\n",
    "print(stats)"
   ]
  },
  {
   "cell_type": "raw",
   "metadata": {},
   "source": []
  },
  {
   "cell_type": "code",
   "execution_count": null,
   "metadata": {},
   "outputs": [],
   "source": []
  }
 ],
 "metadata": {
  "kernelspec": {
   "display_name": "Python 3",
   "language": "python",
   "name": "python3"
  },
  "language_info": {
   "codemirror_mode": {
    "name": "ipython",
    "version": 3
   },
   "file_extension": ".py",
   "mimetype": "text/x-python",
   "name": "python",
   "nbconvert_exporter": "python",
   "pygments_lexer": "ipython3",
   "version": "3.6.3"
  }
 },
 "nbformat": 4,
 "nbformat_minor": 2
}

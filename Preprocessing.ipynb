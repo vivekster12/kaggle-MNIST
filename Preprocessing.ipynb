{
 "cells": [
  {
   "cell_type": "code",
   "execution_count": 1,
   "metadata": {},
   "outputs": [],
   "source": [
    "%matplotlib inline\n",
    "import matplotlib.pyplot as plt\n",
    "import numpy as np\n",
    "from scipy import misc as scmisc\n",
    "import pandas as pd\n",
    "import io\n",
    "import cv2"
   ]
  },
  {
   "cell_type": "code",
   "execution_count": 7,
   "metadata": {},
   "outputs": [],
   "source": [
    "# x_train = np.loadtxt('datasets/train_x.csv', delimiter=',')\n",
    "# y_train = np.loadtxt('datasets/train_y.csv', delimiter=',')\n",
    "x_test = np.loadtxt('datasets/test_x.csv', delimiter=',')\n",
    "x_originals = np.loadtxt('datasets/test_x.csv', delimiter=',')"
   ]
  },
  {
   "cell_type": "code",
   "execution_count": 8,
   "metadata": {},
   "outputs": [],
   "source": [
    "x_test[x_test<240]=0\n",
    "x_test[x_test>=240]=255"
   ]
  },
  {
   "cell_type": "code",
   "execution_count": 171,
   "metadata": {},
   "outputs": [
    {
     "name": "stdout",
     "output_type": "stream",
     "text": [
      "Help on built-in function minAreaRect:\n",
      "\n",
      "minAreaRect(...)\n",
      "    minAreaRect(points) -> retval\n",
      "    .   @brief Finds a rotated rectangle of the minimum area enclosing the input 2D point set.\n",
      "    .   \n",
      "    .   The function calculates and returns the minimum-area bounding rectangle (possibly rotated) for a\n",
      "    .   specified point set. Developer should keep in mind that the returned RotatedRect can contain negative\n",
      "    .   indices when data is close to the containing Mat element boundary.\n",
      "    .   \n",
      "    .   @param points Input vector of 2D points, stored in std::vector\\<\\> or Mat\n",
      "\n",
      "1\n"
     ]
    }
   ],
   "source": [
    "# help(cv2.drawContours)\n",
    "help(cv2.minAreaRect)\n",
    "print(cv2.RETR_LIST)"
   ]
  },
  {
   "cell_type": "code",
   "execution_count": 209,
   "metadata": {},
   "outputs": [
    {
     "name": "stdout",
     "output_type": "stream",
     "text": [
      "Hierarchy: \n",
      " [[[ 1 -1 -1 -1]\n",
      "  [ 2  0 -1 -1]\n",
      "  [ 3  1 -1 -1]\n",
      "  [ 4  2 -1 -1]\n",
      "  [-1  3 -1 -1]]]\n",
      "rect ((23.53845977783203, 15.692309379577637), (20.093624114990234, 16.124515533447266), -29.744882583618164)\n",
      "box [[18.815384 27.676926]\n",
      " [10.815384 13.676924]\n",
      " [28.261536  3.707693]\n",
      " [36.261536 17.707695]]\n"
     ]
    },
    {
     "data": {
      "text/plain": [
       "<matplotlib.image.AxesImage at 0x201adee0160>"
      ]
     },
     "execution_count": 209,
     "metadata": {},
     "output_type": "execute_result"
    },
    {
     "data": {
      "image/png": "[encoded data removed]",
      "text/plain": [
       "<Figure size 960x384 with 4 Axes>"
      ]
     },
     "metadata": {},
     "output_type": "display_data"
    }
   ],
   "source": [
    "# imageNum = 2501\n",
    "imageNum = 5001\n",
    "xImgFiltTest = x_test.reshape(-1,64,64)\n",
    "xImgOrgTest = x_originals.reshape(-1,64,64)\n",
    "\n",
    "imageOrg = xImgOrgTest[imageNum].astype('uint8')\n",
    "imageFilt = xImgFiltTest[imageNum].astype('uint8')\n",
    "fig=plt.figure(figsize=(15,6), dpi=64)\n",
    "a = fig.add_subplot(1,4,1)\n",
    "plt.imshow(imageOrg, cmap='gray')\n",
    "a = fig.add_subplot(1,4,2)\n",
    "plt.imshow(imageFilt, cmap='gray')\n",
    "\n",
    "\n",
    "ret, thresh = cv2.threshold(imageFilt,127,255,cv2.THRESH_BINARY)\n",
    "contourImage, contours, hierarchy = cv2.findContours(thresh,1,2)\n",
    "# print('Contours: \\n', contours)\n",
    "print('Hierarchy: \\n', hierarchy)\n",
    "\n",
    "cnt=contours[3]\n",
    "# print('cnt', cnt)\n",
    "largest_areas = sorted(contours, key=lambda cont: cv2.minAreaRect(cont)[1][0]*cv2.minAreaRect(cont)[1][1])\n",
    "# largest_areas = sorted(contours, key=cv2.contourArea)\n",
    "# print(largest_areas)\n",
    "# print(contours)\n",
    "cnt=largest_areas[-1]\n",
    "\n",
    "rect=cv2.minAreaRect(cnt)\n",
    "\n",
    "\n",
    "print('rect',rect)\n",
    "box = cv2.boxPoints(rect)\n",
    "print('box', box)\n",
    "box = np.int0(box)\n",
    "poly = np.array([box], dtype=np.int32)\n",
    "mask = np.zeros(imageFilt.shape, np.uint8)\n",
    "cv2.fillPoly(mask, poly, 255)\n",
    "# print('npbox', box)\n",
    "\n",
    "cv2.drawContours(mask, [cnt], 0, (255,255,255,255), -1)\n",
    "removed = cv2.add(imageFilt, mask)\n",
    "\n",
    "testing = cv2.bitwise_and(imageFilt, mask)\n",
    "\n",
    "a = fig.add_subplot(1,4,3)\n",
    "plt.imshow(testing, cmap='gray')\n",
    "\n",
    "contoursImage = cv2.drawContours(imageFilt, [box], 0, (150,0,255),1)\n",
    "a = fig.add_subplot(1,4,4)\n",
    "plt.imshow(mask, cmap='gray')\n"
   ]
  },
  {
   "cell_type": "code",
   "execution_count": 154,
   "metadata": {},
   "outputs": [
    {
     "data": {
      "text/plain": [
       "<matplotlib.image.AxesImage at 0x201a7889a90>"
      ]
     },
     "execution_count": 154,
     "metadata": {},
     "output_type": "execute_result"
    },
    {
     "data": {
      "image/png": "[encoded data removed]",
      "text/plain": [
       "<Figure size 432x288 with 1 Axes>"
      ]
     },
     "metadata": {},
     "output_type": "display_data"
    }
   ],
   "source": [
    "connectivity = 4  \n",
    "imgOriginal = xImgFiltTest[imageNum].astype('uint0')\n",
    "ret, thresh = cv2.threshold(imageOrg,127,255,cv2.THRESH_BINARY)\n",
    "num_labels, labels, stats, centroids = cv2.connectedComponentsWithStats(thresh, connectivity, cv2.CV_32S)\n",
    "\n",
    "areas = list()\n",
    "for k in range (0,stats.shape[0]):\n",
    "    areas.append(stats[k,2]*stats[k,3])\n",
    "    \n",
    "max_label=1\n",
    "max_size = areas[1]\n",
    "for j in range(2, num_labels):\n",
    "    if areas[j] > max_size:\n",
    "        max_label = j\n",
    "        max_size = areas[j]\n",
    "preprocessed_img = np.zeros(labels.shape)\n",
    "preprocessed_img[labels == max_label] = 255\n",
    "plt.imshow(preprocessed_img, cmap='gray')"
   ]
  },
  {
   "cell_type": "code",
   "execution_count": 3,
   "metadata": {},
   "outputs": [],
   "source": [
    "filteredX_test = x_test\n",
    "filteredX_test[filteredX_test<240] = 0\n",
    "xImgFiltTest = filteredX_test.reshape(-1, 64, 64)\n",
    "new_dataset_test = []\n",
    "for i,image in enumerate(xImgFiltTest):\n",
    "    image = xImgFiltTest[i].astype('uint8')\n",
    "\n",
    "    connectivity = 4  \n",
    "    ret, thresh = cv2.threshold(image,127,255,cv2.THRESH_BINARY)\n",
    "    num_labels, labels, stats, centroids = cv2.connectedComponentsWithStats(thresh, connectivity, cv2.CV_32S)\n",
    "    \n",
    "    areas = list()\n",
    "    for k in range (0,stats.shape[0]):\n",
    "        areas.append(stats[k,2]*stats[k,3])\n",
    "    max_label=1\n",
    "    max_size = areas[1]\n",
    "    for j in range(2, num_labels):\n",
    "        if areas[j] > max_size:\n",
    "            max_label = j\n",
    "            max_size = areas[j]\n",
    "    preprocessed_img = np.zeros(labels.shape)\n",
    "    preprocessed_img[labels == max_label] = 255\n",
    "    new_dataset_test.append(preprocessed_img)\n"
   ]
  },
  {
   "cell_type": "code",
   "execution_count": 4,
   "metadata": {},
   "outputs": [],
   "source": [
    "filteredX_train = x_train\n",
    "filteredX_train[filteredX_train<240] = 0\n",
    "xImgFiltTrain = filteredX_train.reshape(-1, 64, 64)\n",
    "new_dataset_train = []\n",
    "for i,image in enumerate(xImgFiltTrain):\n",
    "    image = xImgFiltTrain[i].astype('uint8')\n",
    "\n",
    "    connectivity = 4  \n",
    "    ret, thresh = cv2.threshold(image,127,255,cv2.THRESH_BINARY)\n",
    "    num_labels, labels, stats, centroids = cv2.connectedComponentsWithStats(thresh, connectivity, cv2.CV_32S)\n",
    "    areas = list()\n",
    "    for k in range (0,stats.shape[0]):\n",
    "        areas.append(stats[k,2]*stats[k,3])\n",
    "        \n",
    "    max_label=1\n",
    "    max_size = areas[1]\n",
    "    for j in range(2, num_labels):\n",
    "        if areas[j] > max_size:\n",
    "            max_label = j\n",
    "            max_size = areas[j]\n",
    "    preprocessed_img = np.zeros(labels.shape)\n",
    "    preprocessed_img[labels == max_label] = 255\n",
    "    new_dataset_train.append(preprocessed_img)"
   ]
  },
  {
   "cell_type": "code",
   "execution_count": 6,
   "metadata": {},
   "outputs": [
    {
     "name": "stdout",
     "output_type": "stream",
     "text": [
      "(4096,)\n",
      "(1, 64, 64)\n"
     ]
    },
    {
     "data": {
      "image/png": "[encoded data removed]",
      "text/plain": [
       "<Figure size 960x384 with 1 Axes>"
      ]
     },
     "metadata": {},
     "output_type": "display_data"
    }
   ],
   "source": [
    "plt.figure(figsize=(15,6), dpi=64)\n",
    "xImage = x_train[16000]\n",
    "print(xImage.shape)\n",
    "xImage = xImage.reshape(-1,64,64)\n",
    "print(xImage.shape)\n",
    "imgPlot = plt.imshow(xImage[0], cmap='gray')\n",
    "imgPlot = plt.imshow(new_dataset_train[16000], cmap='gray')\n"
   ]
  },
  {
   "cell_type": "code",
   "execution_count": 29,
   "metadata": {},
   "outputs": [
    {
     "data": {
      "image/png": "[encoded data removed]",
      "text/plain": [
       "<Figure size 960x384 with 1 Axes>"
      ]
     },
     "metadata": {},
     "output_type": "display_data"
    }
   ],
   "source": [
    "plt.figure(figsize=(15,6), dpi=64)\n",
    "imgPlot = plt.imshow(new_dataset_train[49000], cmap='gray')"
   ]
  },
  {
   "cell_type": "code",
   "execution_count": 7,
   "metadata": {},
   "outputs": [
    {
     "name": "stdout",
     "output_type": "stream",
     "text": [
      "(10000, 64, 64)\n",
      "(50000, 64, 64)\n"
     ]
    }
   ],
   "source": [
    "new_dataset_test = np.array(new_dataset_test)\n",
    "print (new_dataset_test.shape)\n",
    "\n",
    "new_dataset_train = np.array(new_dataset_train)\n",
    "print (new_dataset_train.shape)"
   ]
  },
  {
   "cell_type": "code",
   "execution_count": 9,
   "metadata": {},
   "outputs": [
    {
     "data": {
      "image/png": "[encoded data removed]",
      "text/plain": [
       "<Figure size 960x384 with 1 Axes>"
      ]
     },
     "metadata": {},
     "output_type": "display_data"
    }
   ],
   "source": [
    "plt.figure(figsize=(15,6), dpi=64)\n",
    "imgPlot = plt.imshow(new_dataset_test[8000], cmap='gray')\n",
    "reshaped_test = np.reshape(new_dataset_test, (10000, 4096))\n",
    "reshaped_train = np.reshape(new_dataset_train, (50000, 4096))"
   ]
  },
  {
   "cell_type": "code",
   "execution_count": 10,
   "metadata": {},
   "outputs": [
    {
     "data": {
      "image/png": "[encoded data removed]",
      "text/plain": [
       "<Figure size 960x384 with 1 Axes>"
      ]
     },
     "metadata": {},
     "output_type": "display_data"
    }
   ],
   "source": [
    "re_reshaped_test = reshaped_test.reshape(10000, 64, 64)\n",
    "plt.figure(figsize=(15,6), dpi=64)\n",
    "imgPlot = plt.imshow(re_reshaped_test[8000], cmap='gray')\n",
    "\n"
   ]
  },
  {
   "cell_type": "code",
   "execution_count": 11,
   "metadata": {},
   "outputs": [],
   "source": [
    "pd.DataFrame(reshaped_test).to_csv(r'C:\\Users\\Owner\\McGill\\4thYear\\COMP551\\kaggle-MNIST\\datasets\\test_x_preproc.csv',\n",
    "                                   header = False, sep=',', index = False)\n",
    "pd.DataFrame(reshaped_train).to_csv(r'C:\\Users\\Owner\\McGill\\4thYear\\COMP551\\kaggle-MNIST\\datasets\\train_x_preproc.csv',\n",
    "                                   header = False, sep=',', index = False)\n"
   ]
  },
  {
   "cell_type": "code",
   "execution_count": 39,
   "metadata": {},
   "outputs": [
    {
     "ename": "ValueError",
     "evalue": "cannot reshape array of size 204800000 into shape (10000,64,64)",
     "output_type": "error",
     "traceback": [
      "\u001b[0;31m---------------------------------------------------------------------------\u001b[0m",
      "\u001b[0;31mValueError\u001b[0m                                Traceback (most recent call last)",
      "\u001b[0;32m<ipython-input-39-52a63a3ecc10>\u001b[0m in \u001b[0;36m<module>\u001b[0;34m()\u001b[0m\n\u001b[1;32m      1\u001b[0m \u001b[0mx_train_preproc\u001b[0m \u001b[0;34m=\u001b[0m \u001b[0mnp\u001b[0m\u001b[0;34m.\u001b[0m\u001b[0mloadtxt\u001b[0m\u001b[0;34m(\u001b[0m\u001b[0;34m'datasets/train_x_preproc.csv'\u001b[0m\u001b[0;34m,\u001b[0m \u001b[0mdelimiter\u001b[0m\u001b[0;34m=\u001b[0m\u001b[0;34m','\u001b[0m\u001b[0;34m)\u001b[0m\u001b[0;34m\u001b[0m\u001b[0m\n\u001b[1;32m      2\u001b[0m \u001b[0mplt\u001b[0m\u001b[0;34m.\u001b[0m\u001b[0mfigure\u001b[0m\u001b[0;34m(\u001b[0m\u001b[0mfigsize\u001b[0m\u001b[0;34m=\u001b[0m\u001b[0;34m(\u001b[0m\u001b[0;36m15\u001b[0m\u001b[0;34m,\u001b[0m\u001b[0;36m6\u001b[0m\u001b[0;34m)\u001b[0m\u001b[0;34m,\u001b[0m \u001b[0mdpi\u001b[0m\u001b[0;34m=\u001b[0m\u001b[0;36m64\u001b[0m\u001b[0;34m)\u001b[0m\u001b[0;34m\u001b[0m\u001b[0m\n\u001b[0;32m----> 3\u001b[0;31m \u001b[0mx_train_preproc\u001b[0m \u001b[0;34m=\u001b[0m \u001b[0mx_train_preproc\u001b[0m\u001b[0;34m.\u001b[0m\u001b[0mreshape\u001b[0m\u001b[0;34m(\u001b[0m\u001b[0;36m10000\u001b[0m\u001b[0;34m,\u001b[0m\u001b[0;36m64\u001b[0m\u001b[0;34m,\u001b[0m\u001b[0;36m64\u001b[0m\u001b[0;34m)\u001b[0m\u001b[0;34m\u001b[0m\u001b[0m\n\u001b[0m\u001b[1;32m      4\u001b[0m \u001b[0mprint\u001b[0m\u001b[0;34m(\u001b[0m\u001b[0mxImage\u001b[0m\u001b[0;34m.\u001b[0m\u001b[0mshape\u001b[0m\u001b[0;34m)\u001b[0m\u001b[0;34m\u001b[0m\u001b[0m\n\u001b[1;32m      5\u001b[0m \u001b[0mimgPlot\u001b[0m \u001b[0;34m=\u001b[0m \u001b[0mplt\u001b[0m\u001b[0;34m.\u001b[0m\u001b[0mimshow\u001b[0m\u001b[0;34m(\u001b[0m\u001b[0mx_train_preproc\u001b[0m\u001b[0;34m[\u001b[0m\u001b[0;36m10\u001b[0m\u001b[0;34m]\u001b[0m\u001b[0;34m,\u001b[0m \u001b[0mcmap\u001b[0m\u001b[0;34m=\u001b[0m\u001b[0;34m'gray'\u001b[0m\u001b[0;34m)\u001b[0m\u001b[0;34m\u001b[0m\u001b[0m\n",
      "\u001b[0;31mValueError\u001b[0m: cannot reshape array of size 204800000 into shape (10000,64,64)"
     ]
    },
    {
     "data": {
      "text/plain": [
       "<Figure size 960x384 with 0 Axes>"
      ]
     },
     "metadata": {},
     "output_type": "display_data"
    }
   ],
   "source": [
    "x_train_preproc = np.loadtxt('datasets/train_x_preproc.csv', delimiter=',')\n"
   ]
  },
  {
   "cell_type": "code",
   "execution_count": 41,
   "metadata": {},
   "outputs": [
    {
     "data": {
      "image/png": "[encoded data removed]",
      "text/plain": [
       "<Figure size 960x384 with 1 Axes>"
      ]
     },
     "metadata": {},
     "output_type": "display_data"
    }
   ],
   "source": [
    "plt.figure(figsize=(15,6), dpi=64)\n",
    "x_train_preproc = x_train_preproc.reshape(50000,64,64)\n",
    "imgPlot = plt.imshow(x_train_preproc[10], cmap='gray')"
   ]
  }
 ],
 "metadata": {
  "kernelspec": {
   "display_name": "Python 3",
   "language": "python",
   "name": "python3"
  },
  "language_info": {
   "codemirror_mode": {
    "name": "ipython",
    "version": 3
   },
   "file_extension": ".py",
   "mimetype": "text/x-python",
   "name": "python",
   "nbconvert_exporter": "python",
   "pygments_lexer": "ipython3",
   "version": "3.6.3"
  }
 },
 "nbformat": 4,
 "nbformat_minor": 1
}

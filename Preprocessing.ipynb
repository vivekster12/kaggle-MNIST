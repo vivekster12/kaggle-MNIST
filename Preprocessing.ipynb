{
 "cells": [
  {
   "cell_type": "code",
   "execution_count": 1,
   "metadata": {},
   "outputs": [],
   "source": [
    "%matplotlib inline\n",
    "import matplotlib.pyplot as plt\n",
    "import numpy as np\n",
    "from scipy import misc as scmisc\n",
    "import pandas as pd\n",
    "import io\n",
    "import cv2"
   ]
  },
  {
   "cell_type": "code",
   "execution_count": 2,
   "metadata": {},
   "outputs": [],
   "source": [
    "x_train = np.loadtxt('datasets/train_x.csv', delimiter=',')\n",
    "y_train = np.loadtxt('datasets/train_y.csv', delimiter=',')\n",
    "x_test = np.loadtxt('datasets/test_x.csv', delimiter=',')"
   ]
  },
  {
   "cell_type": "code",
   "execution_count": 3,
   "metadata": {},
   "outputs": [],
   "source": [
    "filteredX_test = x_test\n",
    "filteredX_test[filteredX_test<240] = 0\n",
    "xImgFiltTest = filteredX_test.reshape(-1, 64, 64)\n",
    "new_dataset_test = []\n",
    "for i,image in enumerate(xImgFiltTest):\n",
    "    image = xImgFiltTest[i].astype('uint8')\n",
    "\n",
    "    connectivity = 4  \n",
    "    ret, thresh = cv2.threshold(image,127,255,cv2.THRESH_BINARY)\n",
    "    num_labels, labels, stats, centroids = cv2.connectedComponentsWithStats(thresh, connectivity, cv2.CV_32S)\n",
    "    \n",
    "    areas = list()\n",
    "    for k in range (0,stats.shape[0]):\n",
    "        areas.append(stats[k,2]*stats[k,3])\n",
    "    max_label=1\n",
    "    max_size = areas[1]\n",
    "    for j in range(2, num_labels):\n",
    "        if areas[j] > max_size:\n",
    "            max_label = j\n",
    "            max_size = areas[j]\n",
    "    preprocessed_img = np.zeros(labels.shape)\n",
    "    preprocessed_img[labels == max_label] = 255\n",
    "    new_dataset_test.append(preprocessed_img)\n"
   ]
  },
  {
   "cell_type": "code",
   "execution_count": 4,
   "metadata": {},
   "outputs": [],
   "source": [
    "filteredX_train = x_train\n",
    "filteredX_train[filteredX_train<240] = 0\n",
    "xImgFiltTrain = filteredX_train.reshape(-1, 64, 64)\n",
    "new_dataset_train = []\n",
    "for i,image in enumerate(xImgFiltTrain):\n",
    "    image = xImgFiltTrain[i].astype('uint8')\n",
    "\n",
    "    connectivity = 4  \n",
    "    ret, thresh = cv2.threshold(image,127,255,cv2.THRESH_BINARY)\n",
    "    num_labels, labels, stats, centroids = cv2.connectedComponentsWithStats(thresh, connectivity, cv2.CV_32S)\n",
    "    areas = list()\n",
    "    for k in range (0,stats.shape[0]):\n",
    "        areas.append(stats[k,2]*stats[k,3])\n",
    "        \n",
    "    max_label=1\n",
    "    max_size = areas[1]\n",
    "    for j in range(2, num_labels):\n",
    "        if areas[j] > max_size:\n",
    "            max_label = j\n",
    "            max_size = areas[j]\n",
    "    preprocessed_img = np.zeros(labels.shape)\n",
    "    preprocessed_img[labels == max_label] = 255\n",
    "    new_dataset_train.append(preprocessed_img)"
   ]
  },
  {
   "cell_type": "code",
   "execution_count": 6,
   "metadata": {},
   "outputs": [
    {
     "name": "stdout",
     "output_type": "stream",
     "text": [
      "(4096,)\n",
      "(1, 64, 64)\n"
     ]
    },
    {
     "data": {
      "image/png": "[encoded data removed]",
      "text/plain": [
       "<Figure size 960x384 with 1 Axes>"
      ]
     },
     "metadata": {},
     "output_type": "display_data"
    }
   ],
   "source": [
    "plt.figure(figsize=(15,6), dpi=64)\n",
    "xImage = x_train[16000]\n",
    "print(xImage.shape)\n",
    "xImage = xImage.reshape(-1,64,64)\n",
    "print(xImage.shape)\n",
    "imgPlot = plt.imshow(xImage[0], cmap='gray')\n",
    "imgPlot = plt.imshow(new_dataset_train[16000], cmap='gray')\n"
   ]
  },
  {
   "cell_type": "code",
   "execution_count": 29,
   "metadata": {},
   "outputs": [
    {
     "data": {
      "image/png": "[encoded data removed]",
      "text/plain": [
       "<Figure size 960x384 with 1 Axes>"
      ]
     },
     "metadata": {},
     "output_type": "display_data"
    }
   ],
   "source": [
    "plt.figure(figsize=(15,6), dpi=64)\n",
    "imgPlot = plt.imshow(new_dataset_train[49000], cmap='gray')"
   ]
  },
  {
   "cell_type": "code",
   "execution_count": 7,
   "metadata": {},
   "outputs": [
    {
     "name": "stdout",
     "output_type": "stream",
     "text": [
      "(10000, 64, 64)\n",
      "(50000, 64, 64)\n"
     ]
    }
   ],
   "source": [
    "new_dataset_test = np.array(new_dataset_test)\n",
    "print (new_dataset_test.shape)\n",
    "\n",
    "new_dataset_train = np.array(new_dataset_train)\n",
    "print (new_dataset_train.shape)"
   ]
  },
  {
   "cell_type": "code",
   "execution_count": 9,
   "metadata": {},
   "outputs": [
    {
     "data": {
      "image/png": "[encoded data removed]",
      "text/plain": [
       "<Figure size 960x384 with 1 Axes>"
      ]
     },
     "metadata": {},
     "output_type": "display_data"
    }
   ],
   "source": [
    "plt.figure(figsize=(15,6), dpi=64)\n",
    "imgPlot = plt.imshow(new_dataset_test[8000], cmap='gray')\n",
    "reshaped_test = np.reshape(new_dataset_test, (10000, 4096))\n",
    "reshaped_train = np.reshape(new_dataset_train, (50000, 4096))"
   ]
  },
  {
   "cell_type": "code",
   "execution_count": 10,
   "metadata": {},
   "outputs": [
    {
     "data": {
      "image/png": "[encoded data removed]",
      "text/plain": [
       "<Figure size 960x384 with 1 Axes>"
      ]
     },
     "metadata": {},
     "output_type": "display_data"
    }
   ],
   "source": [
    "re_reshaped_test = reshaped_test.reshape(10000, 64, 64)\n",
    "plt.figure(figsize=(15,6), dpi=64)\n",
    "imgPlot = plt.imshow(re_reshaped_test[8000], cmap='gray')\n",
    "\n"
   ]
  },
  {
   "cell_type": "code",
   "execution_count": 11,
   "metadata": {},
   "outputs": [],
   "source": [
    "pd.DataFrame(reshaped_test).to_csv(r'C:\\Users\\Owner\\McGill\\4thYear\\COMP551\\kaggle-MNIST\\datasets\\test_x_preproc.csv',\n",
    "                                   header = False, sep=',', index = False)\n",
    "pd.DataFrame(reshaped_train).to_csv(r'C:\\Users\\Owner\\McGill\\4thYear\\COMP551\\kaggle-MNIST\\datasets\\train_x_preproc.csv',\n",
    "                                   header = False, sep=',', index = False)\n"
   ]
  },
  {
   "cell_type": "code",
   "execution_count": 39,
   "metadata": {},
   "outputs": [
    {
     "ename": "ValueError",
     "evalue": "cannot reshape array of size 204800000 into shape (10000,64,64)",
     "output_type": "error",
     "traceback": [
      "\u001b[0;31m---------------------------------------------------------------------------\u001b[0m",
      "\u001b[0;31mValueError\u001b[0m                                Traceback (most recent call last)",
      "\u001b[0;32m<ipython-input-39-52a63a3ecc10>\u001b[0m in \u001b[0;36m<module>\u001b[0;34m()\u001b[0m\n\u001b[1;32m      1\u001b[0m \u001b[0mx_train_preproc\u001b[0m \u001b[0;34m=\u001b[0m \u001b[0mnp\u001b[0m\u001b[0;34m.\u001b[0m\u001b[0mloadtxt\u001b[0m\u001b[0;34m(\u001b[0m\u001b[0;34m'datasets/train_x_preproc.csv'\u001b[0m\u001b[0;34m,\u001b[0m \u001b[0mdelimiter\u001b[0m\u001b[0;34m=\u001b[0m\u001b[0;34m','\u001b[0m\u001b[0;34m)\u001b[0m\u001b[0;34m\u001b[0m\u001b[0m\n\u001b[1;32m      2\u001b[0m \u001b[0mplt\u001b[0m\u001b[0;34m.\u001b[0m\u001b[0mfigure\u001b[0m\u001b[0;34m(\u001b[0m\u001b[0mfigsize\u001b[0m\u001b[0;34m=\u001b[0m\u001b[0;34m(\u001b[0m\u001b[0;36m15\u001b[0m\u001b[0;34m,\u001b[0m\u001b[0;36m6\u001b[0m\u001b[0;34m)\u001b[0m\u001b[0;34m,\u001b[0m \u001b[0mdpi\u001b[0m\u001b[0;34m=\u001b[0m\u001b[0;36m64\u001b[0m\u001b[0;34m)\u001b[0m\u001b[0;34m\u001b[0m\u001b[0m\n\u001b[0;32m----> 3\u001b[0;31m \u001b[0mx_train_preproc\u001b[0m \u001b[0;34m=\u001b[0m \u001b[0mx_train_preproc\u001b[0m\u001b[0;34m.\u001b[0m\u001b[0mreshape\u001b[0m\u001b[0;34m(\u001b[0m\u001b[0;36m10000\u001b[0m\u001b[0;34m,\u001b[0m\u001b[0;36m64\u001b[0m\u001b[0;34m,\u001b[0m\u001b[0;36m64\u001b[0m\u001b[0;34m)\u001b[0m\u001b[0;34m\u001b[0m\u001b[0m\n\u001b[0m\u001b[1;32m      4\u001b[0m \u001b[0mprint\u001b[0m\u001b[0;34m(\u001b[0m\u001b[0mxImage\u001b[0m\u001b[0;34m.\u001b[0m\u001b[0mshape\u001b[0m\u001b[0;34m)\u001b[0m\u001b[0;34m\u001b[0m\u001b[0m\n\u001b[1;32m      5\u001b[0m \u001b[0mimgPlot\u001b[0m \u001b[0;34m=\u001b[0m \u001b[0mplt\u001b[0m\u001b[0;34m.\u001b[0m\u001b[0mimshow\u001b[0m\u001b[0;34m(\u001b[0m\u001b[0mx_train_preproc\u001b[0m\u001b[0;34m[\u001b[0m\u001b[0;36m10\u001b[0m\u001b[0;34m]\u001b[0m\u001b[0;34m,\u001b[0m \u001b[0mcmap\u001b[0m\u001b[0;34m=\u001b[0m\u001b[0;34m'gray'\u001b[0m\u001b[0;34m)\u001b[0m\u001b[0;34m\u001b[0m\u001b[0m\n",
      "\u001b[0;31mValueError\u001b[0m: cannot reshape array of size 204800000 into shape (10000,64,64)"
     ]
    },
    {
     "data": {
      "text/plain": [
       "<Figure size 960x384 with 0 Axes>"
      ]
     },
     "metadata": {},
     "output_type": "display_data"
    }
   ],
   "source": [
    "x_train_preproc = np.loadtxt('datasets/train_x_preproc.csv', delimiter=',')\n"
   ]
  },
  {
   "cell_type": "code",
   "execution_count": 41,
   "metadata": {},
   "outputs": [
    {
     "data": {
      "image/png": "[encoded data removed]",
      "text/plain": [
       "<Figure size 960x384 with 1 Axes>"
      ]
     },
     "metadata": {},
     "output_type": "display_data"
    }
   ],
   "source": [
    "plt.figure(figsize=(15,6), dpi=64)\n",
    "x_train_preproc = x_train_preproc.reshape(50000,64,64)\n",
    "imgPlot = plt.imshow(x_train_preproc[10], cmap='gray')"
   ]
  }
 ],
 "metadata": {
  "kernelspec": {
   "display_name": "Python 3",
   "language": "python",
   "name": "python3"
  },
  "language_info": {
   "codemirror_mode": {
    "name": "ipython",
    "version": 3
   },
   "file_extension": ".py",
   "mimetype": "text/x-python",
   "name": "python",
   "nbconvert_exporter": "python",
   "pygments_lexer": "ipython3",
   "version": "3.6.3"
  }
 },
 "nbformat": 4,
 "nbformat_minor": 1
}

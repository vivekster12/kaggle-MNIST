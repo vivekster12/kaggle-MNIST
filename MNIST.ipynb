{
 "cells": [
  {
   "cell_type": "code",
   "execution_count": 33,
   "metadata": {
    "collapsed": true
   },
   "outputs": [],
   "source": [
    "%matplotlib inline\n",
    "import matplotlib.pyplot as plt\n",
    "import numpy as np\n",
    "from scipy import misc as scmisc"
   ]
  },
  {
   "cell_type": "code",
   "execution_count": 51,
   "metadata": {},
   "outputs": [],
   "source": [
    "x = np.loadtxt('datasets/test_x.csv', delimiter=',')\n",
    "y = np.loadtxt('datasets/train_y.csv', delimiter=',')"
   ]
  },
  {
   "cell_type": "code",
   "execution_count": 52,
   "metadata": {},
   "outputs": [
    {
     "data": {
      "text/plain": [
       "array([4., 7., 1., ..., 3., 7., 9.])"
      ]
     },
     "execution_count": 52,
     "metadata": {},
     "output_type": "execute_result"
    }
   ],
   "source": [
    "y"
   ]
  },
  {
   "cell_type": "code",
   "execution_count": 54,
   "metadata": {},
   "outputs": [],
   "source": [
    "x = x.reshape(-1, 64, 64)\n",
    "y = y.reshape(-1, 1)"
   ]
  },
  {
   "cell_type": "code",
   "execution_count": 16,
   "metadata": {},
   "outputs": [
    {
     "data": {
      "text/plain": [
       "array([[174., 163., 162., ..., 120., 117.,  62.],\n       [ 61.,  63.,  61., ...,  55.,  55.,  53.],\n       [111., 106., 100., ...,  53.,  53.,  46.],\n       ...,\n       [ 37.,  36.,  36., ..., 136., 118., 125.],\n       [ 65.,  73.,  80., ..., 178., 178., 175.],\n       [ 44.,  48.,  49., ...,  28.,  28.,  28.]])"
      ]
     },
     "execution_count": 16,
     "metadata": {},
     "output_type": "execute_result"
    }
   ],
   "source": [
    "x"
   ]
  },
  {
   "cell_type": "code",
   "execution_count": 21,
   "metadata": {},
   "outputs": [
    {
     "data": {
      "text/plain": [
       "array([[[174., 163., 162., ...,  51.,  91.,  50.],\n        [158.,  98., 169., ..., 116., 101., 117.],\n        [164., 141., 109., ...,  93.,  78., 102.],\n        ...,\n        [148., 118., 112., ..., 114., 131., 103.],\n        [ 69.,  90.,  96., ..., 140., 134., 114.],\n        [ 54.,  78.,  88., ..., 120., 117.,  62.]],\n\n       [[ 61.,  63.,  61., ...,  93.,  95.,  93.],\n        [ 62.,  60.,  55., ...,  88.,  89.,  87.],\n        [ 78.,  73.,  66., ...,  80.,  81.,  78.],\n        ...,\n        [122., 119., 112., ...,  53.,  48.,  42.],\n        [107., 113., 114., ...,  45.,  38.,  34.],\n        [ 95., 102., 108., ...,  55.,  55.,  53.]],\n\n       [[111., 106., 100., ..., 174., 178., 174.],\n        [116., 110., 104., ..., 178., 178., 175.],\n        [122., 116., 110., ..., 102., 178., 178.],\n        ...,\n        [ 24.,  21.,  15., ...,  53.,  42.,  32.],\n        [ 35.,  20.,  14., ...,  52.,  47.,  37.],\n        [ 31.,  34.,  23., ...,  53.,  53.,  46.]],\n\n       ...,\n\n       [[ 37.,  36.,  36., ...,  42.,  37.,  39.],\n        [ 38.,  37.,  37., ...,  46.,  46.,  51.],\n        [ 39.,  39.,  38., ...,  59.,  56.,  53.],\n        ...,\n        [ 50.,  81., 141., ..., 132., 143., 120.],\n        [ 49.,  77., 143., ..., 136., 135., 140.],\n        [ 45.,  64., 140., ..., 136., 118., 125.]],\n\n       [[ 65.,  73.,  80., ...,  23.,  24.,  34.],\n        [ 61.,  69.,  76., ...,  11.,  16.,  21.],\n        [ 58.,  65.,  72., ...,   6.,   5.,   8.],\n        ...,\n        [173., 178., 146., ...,   8.,   9.,   4.],\n        [178., 175., 178., ..., 144.,  89.,  63.],\n        [178., 178., 173., ..., 178., 178., 175.]],\n\n       [[ 44.,  48.,  49., ...,  31.,  34.,  34.],\n        [ 32.,  32.,  31., ...,  34.,  34.,  31.],\n        [ 20.,  18.,  18., ...,  36.,  35.,  30.],\n        ...,\n        [ 23.,  21.,  22., ...,  46.,  46.,  42.],\n        [ 22.,  23.,  28., ...,  36.,  39.,  38.],\n        [ 23.,  31.,  38., ...,  28.,  28.,  28.]]])"
      ]
     },
     "execution_count": 21,
     "metadata": {},
     "output_type": "execute_result"
    }
   ],
   "source": [
    "x"
   ]
  },
  {
   "cell_type": "code",
   "execution_count": 55,
   "metadata": {},
   "outputs": [
    {
     "name": "stdout",
     "output_type": "stream",
     "text": [
      "10000\n"
     ]
    },
    {
     "data": {
      "image/png": "[encoded data removed]",
      "text/plain": [
       "<Figure size 960x384 with 1 Axes>"
      ]
     },
     "metadata": {},
     "output_type": "display_data"
    }
   ],
   "source": [
    "plt.figure(figsize=(15,6), dpi=64)\n",
    "count = 0\n",
    "for image in x:\n",
    "    count+=1\n",
    "print(count)\n",
    "imgPlot = plt.imshow(x[6], cmap='gray')"
   ]
  }
 ],
 "metadata": {
  "kernelspec": {
   "display_name": "Python 2",
   "language": "python",
   "name": "python2"
  },
  "language_info": {
   "codemirror_mode": {
    "name": "ipython",
    "version": 2
   },
   "file_extension": ".py",
   "mimetype": "text/x-python",
   "name": "python",
   "nbconvert_exporter": "python",
   "pygments_lexer": "ipython2",
   "version": "2.7.6"
  }
 },
 "nbformat": 4,
 "nbformat_minor": 0
}
